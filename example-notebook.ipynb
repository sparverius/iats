{
 "cells": [
  {
   "cell_type": "markdown",
   "metadata": {},
   "source": [
    "# Interactive ATS"
   ]
  },
  {
   "cell_type": "code",
   "execution_count": 14,
   "metadata": {},
   "outputs": [
    {
     "name": "stdout",
     "output_type": "stream",
     "text": [
      "Hello World!\n"
     ]
    }
   ],
   "source": [
    "#include \"share/HATS/temptory_staload_bucs320.hats\"\n",
    "\n",
    "implfun main0() = println!(\"Hello World!\")"
   ]
  },
  {
   "cell_type": "markdown",
   "metadata": {},
   "source": [
    "### Error(s) during compilation\n",
    "- The kernel will also display compilations warnings and errors if we have some. \n",
    "- What happens when we remove the include statement?\n",
    "  - You can see that print_newline is unrecognized which is needed by `println`"
   ]
  },
  {
   "cell_type": "code",
   "execution_count": 13,
   "metadata": {},
   "outputs": [
    {
     "name": "stderr",
     "output_type": "stream",
     "text": [
      "/tmp/tmp90ha8vx3.dats: 19(line=1, offs=19) -- 43(line=1, offs=43): error(2): the dynamic identifier [print_newline] is unrecognized.\n",
      "patsopt(TRANS2): there are [1] errors in total.\n",
      "exit(ATS): uncaught exception: _2home_2xaos_2prfats_2srcgen_2pats_error_2esats__FatalErrorExn(1025)\n",
      "[ATS kernel] GCC exited with code 1, the executable will not be executed"
     ]
    }
   ],
   "source": [
    "implfun main0() = println!(\"Hello World!\")"
   ]
  },
  {
   "cell_type": "markdown",
   "metadata": {},
   "source": [
    "### Fixing the error\n",
    "- Here we static load (`staload`) the statics of print and stdio modules which makes the function interfaces (or headers) available to us. \n",
    "- Then we static load the dynamics of the print and stdio modules to make available the function implementations."
   ]
  },
  {
   "cell_type": "code",
   "execution_count": 12,
   "metadata": {},
   "outputs": [
    {
     "name": "stdout",
     "output_type": "stream",
     "text": [
      "Hello World!\n"
     ]
    }
   ],
   "source": [
    "#staload \"libats/SATS/print.sats\"\n",
    "#staload \"libats/SATS/stdio.sats\"\n",
    "\n",
    "#staload _ = \"libats/DATS/print.dats\"\n",
    "#staload _ = \"libats/DATS/stdio.dats\"\n",
    "\n",
    "implfun main0() = println!(\"Hello World!\")"
   ]
  },
  {
   "cell_type": "markdown",
   "metadata": {},
   "source": [
    "#### More examples soon..."
   ]
  },
  {
   "cell_type": "code",
   "execution_count": 18,
   "metadata": {},
   "outputs": [
    {
     "name": "stdout",
     "output_type": "stream",
     "text": [
      "  fact(10) = 3628800\n",
      "g_fact(10) = 3628800\n"
     ]
    }
   ],
   "source": [
    "#include \"share/HATS/temptory_staload_bucs320.hats\"\n",
    "\n",
    "#staload \"libats/SATS/gord.sats\"\n",
    "#staload \"libats/SATS/gnum.sats\"\n",
    "#staload \"libats/SATS/gseq.sats\"\n",
    "#staload _ = \"libats/DATS/gord.dats\"\n",
    "#staload _ = \"libats/DATS/gnum.dats\"\n",
    "#staload _ = \"libats/DATS/gseq.dats\"\n",
    "#staload _ = \"libats/DATS/gseq_list0.dats\"\n",
    "\n",
    "implfun main1() = 0\n",
    "\n",
    "(* ****** ****** *)\n",
    "\n",
    "typedef x0 = sint\n",
    "typedef xs = sint\n",
    "\n",
    "(* ****** ****** *)\n",
    "\n",
    "impltmp\n",
    "gseq_streamize<gseq><xs,x0>(xs) = sint0_streamize<>(xs)\n",
    "\n",
    "impltmp\n",
    "gseq_forall<gseq><xs,x0>(xs) = (sint0_forall<>(xs)) where\n",
    "{\n",
    "impltmp\n",
    "sint0_forall$test<>(x0) = \n",
    "  gseq_forall$test<gseq><xs,x0>(x0)\n",
    "}\n",
    "\n",
    "(* ****** ****** *)\n",
    "\n",
    "fun\n",
    "fact(x: int) =\n",
    "(\n",
    "gseq_mul<gseq><list(int),int>\n",
    "(\n",
    "list0_vt2t(gseq_map_list<gseq><int,int><int>(x))\n",
    ")\n",
    ") where\n",
    "{\n",
    "  impltmp\n",
    "  gseq_map$fopr<gseq><int,int><int>(x) = x + 1\n",
    "}\n",
    "\n",
    "(* ****** ****** *)\n",
    "\n",
    "fun\n",
    "{a:tflt}\n",
    "g_fact(x: a): a = (fact(x)) where\n",
    "{\n",
    "  fun\n",
    "  fact(x: a): a =\n",
    "    if g_ltez(x)\n",
    "    then g_1<a>()\n",
    "    else g_mul<a>(x, fact(g_pred<a>(x)))\n",
    "}\n",
    "\n",
    "(* ****** ****** *)\n",
    "\n",
    "val () = println!(\"  fact(10) = \", fact(10))\n",
    "val () = println!(\"g_fact(10) = \", g_fact<int>(10))"
   ]
  },
  {
   "cell_type": "code",
   "execution_count": null,
   "metadata": {},
   "outputs": [],
   "source": []
  }
 ],
 "metadata": {
  "kernelspec": {
   "display_name": "ATS",
   "language": "ats",
   "name": "ats"
  },
  "language_info": {
   "file_extension": ".dats",
   "mimetype": "text/plain",
   "name": "ats"
  }
 },
 "nbformat": 4,
 "nbformat_minor": 1
}
