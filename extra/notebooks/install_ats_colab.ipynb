{
 "cells": [
  {
   "cell_type": "markdown",
   "metadata": {
    "colab_type": "text",
    "id": "Q5Htcs1F8-DY"
   },
   "source": [
    "This notebook installs an ats kernel for use on colab. \n",
    "<br/><br/>\n",
    "* Steps:\n",
    "  - Click on \"OPEN IN PLAYGROUND\".\n",
    "  - Run the cell below (should take about 1 minute).\n",
    "  - Once the cell has run you can use some [ats notebook](https://colab.research.google.com/drive/1oNChhifqbhNqFGP9vtRnuRmAwtCwkr-O) on the same colab instance.\n",
    "<br/><br/>\n",
    "<sub>\n",
    "You can use the `use_cache` to store the various binaries on your google drive. <br/>\n",
    "This should make reinstalling faster (requires google drive authentication).\n",
    "</sub>\n",
    "<br/><br/>\n",
    "<sub>\n",
    "Note: If your colab instance ends up in a bad state, Runtime > Reset all runtimes... should reset it.\n",
    "</sub>\n",
    "---\n"
   ]
  },
  {
   "cell_type": "code",
   "execution_count": 0,
   "metadata": {
    "cellView": "form",
    "colab": {},
    "colab_type": "code",
    "id": "a16m43i1yUpd"
   },
   "outputs": [],
   "source": [
    "# use_cache = \"none\" #@param [\"none\", \"iats-cache.tgz\"] {allow-input: false}\n",
    "\n",
    "import os\n",
    "import subprocess\n",
    "\n",
    "# if os.path.isdir('/root/.ats'):\n",
    "#   raise ValueError('ats directory already exists')\n",
    "\n",
    "def run_script(bash_script):\n",
    "  print('Running the following commands:\\n%s' % bash_script)\n",
    "  env = dict(os.environ)\n",
    "  env['ATS_INSTALL'] = bash_script\n",
    "  process = subprocess.Popen(\n",
    "    '/bin/bash -c \"$ATS_INSTALL\"',\n",
    "    shell=True,\n",
    "    stdout=subprocess.PIPE,\n",
    "    stderr=subprocess.PIPE,\n",
    "    env=env)\n",
    "  stdout, stderr = process.communicate()\n",
    "  if stdout: print(stdout.decode())\n",
    "  if stderr: print(stderr.decode())\n",
    "  return_code = process.wait()\n",
    "  if return_code:\n",
    "    raise ValueError('subprocess failed %d' % return_code)\n",
    "\n",
    "bash_script = []\n",
    "\n",
    "# read_cache_ = None\n",
    "# write_cache_ = None\n",
    "# if use_cache is not None and use_cache != 'none' and use_cache:\n",
    "#   from google.colab import drive\n",
    "#   drive.mount('/content/drive')\n",
    "#   cache_file = '/content/drive/My Drive/' + use_cache\n",
    "#   if os.path.isfile(cache_file):\n",
    "#     read_cache_ = cache_file\n",
    "#   else:\n",
    "#     write_cache_ = cache_file\n",
    "\n",
    "# Install ats\n",
    "run_script('(sh <(curl -sL https://git.io/fjACW))')\n",
    "  \n",
    "# if read_cache_ is None:\n",
    "#   if write_cache_ is not None:\n",
    "#     run_script('(cd; tar -czf \"%s\" .ats)' % write_cache_)\n",
    "# else:\n",
    "#   run_script('(cd; tar -xzf \"%s\")' % read_cache_)\n",
    "\n",
    "\n",
    "run_script('pip install iats')\n",
    "run_script('install_ats_kernel')\n",
    "run_script('jupyter kernelspec list')"
   ]
  }
 ],
 "metadata": {
  "colab": {
   "collapsed_sections": [],
   "name": "install-ocaml-colab.ipynb",
   "provenance": [],
   "version": "0.3.2"
  },
  "kernelspec": {
   "display_name": "Python 3",
   "language": "python",
   "name": "python3"
  },
  "language_info": {
   "codemirror_mode": {
    "name": "ipython",
    "version": 3
   },
   "file_extension": ".py",
   "mimetype": "text/x-python",
   "name": "python",
   "nbconvert_exporter": "python",
   "pygments_lexer": "ipython3",
   "version": "3.7.4"
  }
 },
 "nbformat": 4,
 "nbformat_minor": 1
}
